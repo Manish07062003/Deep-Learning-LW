{
 "cells": [
  {
   "cell_type": "code",
   "execution_count": 1,
   "id": "6fbc6802",
   "metadata": {},
   "outputs": [],
   "source": [
    "import pandas as pd"
   ]
  },
  {
   "cell_type": "code",
   "execution_count": 2,
   "id": "7b847db1",
   "metadata": {},
   "outputs": [
    {
     "data": {
      "text/html": [
       "<div>\n",
       "<style scoped>\n",
       "    .dataframe tbody tr th:only-of-type {\n",
       "        vertical-align: middle;\n",
       "    }\n",
       "\n",
       "    .dataframe tbody tr th {\n",
       "        vertical-align: top;\n",
       "    }\n",
       "\n",
       "    .dataframe thead th {\n",
       "        text-align: right;\n",
       "    }\n",
       "</style>\n",
       "<table border=\"1\" class=\"dataframe\">\n",
       "  <thead>\n",
       "    <tr style=\"text-align: right;\">\n",
       "      <th></th>\n",
       "      <th>Gender</th>\n",
       "      <th>Height</th>\n",
       "      <th>Weight</th>\n",
       "    </tr>\n",
       "  </thead>\n",
       "  <tbody>\n",
       "    <tr>\n",
       "      <th>0</th>\n",
       "      <td>Male</td>\n",
       "      <td>73.847017</td>\n",
       "      <td>241.893563</td>\n",
       "    </tr>\n",
       "    <tr>\n",
       "      <th>1</th>\n",
       "      <td>Male</td>\n",
       "      <td>68.781904</td>\n",
       "      <td>162.310473</td>\n",
       "    </tr>\n",
       "    <tr>\n",
       "      <th>2</th>\n",
       "      <td>Male</td>\n",
       "      <td>74.110105</td>\n",
       "      <td>212.740856</td>\n",
       "    </tr>\n",
       "    <tr>\n",
       "      <th>3</th>\n",
       "      <td>Male</td>\n",
       "      <td>71.730978</td>\n",
       "      <td>220.042470</td>\n",
       "    </tr>\n",
       "    <tr>\n",
       "      <th>4</th>\n",
       "      <td>Male</td>\n",
       "      <td>69.881796</td>\n",
       "      <td>206.349801</td>\n",
       "    </tr>\n",
       "    <tr>\n",
       "      <th>...</th>\n",
       "      <td>...</td>\n",
       "      <td>...</td>\n",
       "      <td>...</td>\n",
       "    </tr>\n",
       "    <tr>\n",
       "      <th>9995</th>\n",
       "      <td>Female</td>\n",
       "      <td>66.172652</td>\n",
       "      <td>136.777454</td>\n",
       "    </tr>\n",
       "    <tr>\n",
       "      <th>9996</th>\n",
       "      <td>Female</td>\n",
       "      <td>67.067155</td>\n",
       "      <td>170.867906</td>\n",
       "    </tr>\n",
       "    <tr>\n",
       "      <th>9997</th>\n",
       "      <td>Female</td>\n",
       "      <td>63.867992</td>\n",
       "      <td>128.475319</td>\n",
       "    </tr>\n",
       "    <tr>\n",
       "      <th>9998</th>\n",
       "      <td>Female</td>\n",
       "      <td>69.034243</td>\n",
       "      <td>163.852461</td>\n",
       "    </tr>\n",
       "    <tr>\n",
       "      <th>9999</th>\n",
       "      <td>Female</td>\n",
       "      <td>61.944246</td>\n",
       "      <td>113.649103</td>\n",
       "    </tr>\n",
       "  </tbody>\n",
       "</table>\n",
       "<p>10000 rows × 3 columns</p>\n",
       "</div>"
      ],
      "text/plain": [
       "      Gender     Height      Weight\n",
       "0       Male  73.847017  241.893563\n",
       "1       Male  68.781904  162.310473\n",
       "2       Male  74.110105  212.740856\n",
       "3       Male  71.730978  220.042470\n",
       "4       Male  69.881796  206.349801\n",
       "...      ...        ...         ...\n",
       "9995  Female  66.172652  136.777454\n",
       "9996  Female  67.067155  170.867906\n",
       "9997  Female  63.867992  128.475319\n",
       "9998  Female  69.034243  163.852461\n",
       "9999  Female  61.944246  113.649103\n",
       "\n",
       "[10000 rows x 3 columns]"
      ]
     },
     "execution_count": 2,
     "metadata": {},
     "output_type": "execute_result"
    }
   ],
   "source": [
    "dataset=pd.read_csv(\"weight-height.csv\")\n",
    "dataset"
   ]
  },
  {
   "cell_type": "code",
   "execution_count": 3,
   "id": "bd8ad857",
   "metadata": {},
   "outputs": [],
   "source": [
    "x = dataset[\"Height\"]"
   ]
  },
  {
   "cell_type": "code",
   "execution_count": 4,
   "id": "ce0e2fa2",
   "metadata": {},
   "outputs": [],
   "source": [
    "y = dataset[\"Weight\"]"
   ]
  },
  {
   "cell_type": "code",
   "execution_count": 5,
   "id": "24b0aa37",
   "metadata": {},
   "outputs": [
    {
     "name": "stderr",
     "output_type": "stream",
     "text": [
      "2023-07-05 23:52:58.730555: I tensorflow/core/platform/cpu_feature_guard.cc:182] This TensorFlow binary is optimized to use available CPU instructions in performance-critical operations.\n",
      "To enable the following instructions: AVX2 FMA, in other operations, rebuild TensorFlow with the appropriate compiler flags.\n"
     ]
    }
   ],
   "source": [
    "from keras.layers import Dense"
   ]
  },
  {
   "cell_type": "code",
   "execution_count": 6,
   "id": "0084d889",
   "metadata": {},
   "outputs": [],
   "source": [
    "from keras.models import Sequential"
   ]
  },
  {
   "cell_type": "code",
   "execution_count": 7,
   "id": "90fb3e72",
   "metadata": {},
   "outputs": [],
   "source": [
    "# creates a brain in which we can add layers and inside layers we can add neurons\n",
    "brain = Sequential()"
   ]
  },
  {
   "cell_type": "code",
   "execution_count": 8,
   "id": "547cf4bd",
   "metadata": {},
   "outputs": [],
   "source": [
    "# adding 1 layers to brain using Dense() function\n",
    "\n",
    "brain.add(Dense(\n",
    "    units=1,\n",
    "    input_shape=(1,),\n",
    "    # mention type of model linear or symoid\n",
    "    activation=\"linear\",\n",
    "    # starting value of b (intercept) is set to 0\n",
    "    bias_initializer='zeros',\n",
    "    # starting value of weight (c) is set to 0\n",
    "    kernel_initializer='zeros'\n",
    "    ))"
   ]
  },
  {
   "cell_type": "code",
   "execution_count": 9,
   "id": "f7e1c5f9",
   "metadata": {},
   "outputs": [
    {
     "data": {
      "text/plain": [
       "{'name': 'sequential',\n",
       " 'layers': [{'class_name': 'InputLayer',\n",
       "   'config': {'batch_input_shape': (None, 1),\n",
       "    'dtype': 'float32',\n",
       "    'sparse': False,\n",
       "    'ragged': False,\n",
       "    'name': 'dense_input'}},\n",
       "  {'class_name': 'Dense',\n",
       "   'config': {'name': 'dense',\n",
       "    'trainable': True,\n",
       "    'dtype': 'float32',\n",
       "    'batch_input_shape': (None, 1),\n",
       "    'units': 1,\n",
       "    'activation': 'linear',\n",
       "    'use_bias': True,\n",
       "    'kernel_initializer': {'class_name': 'Zeros', 'config': {}},\n",
       "    'bias_initializer': {'class_name': 'Zeros', 'config': {}},\n",
       "    'kernel_regularizer': None,\n",
       "    'bias_regularizer': None,\n",
       "    'activity_regularizer': None,\n",
       "    'kernel_constraint': None,\n",
       "    'bias_constraint': None}}]}"
      ]
     },
     "execution_count": 9,
     "metadata": {},
     "output_type": "execute_result"
    }
   ],
   "source": [
    "brain.get_config()"
   ]
  },
  {
   "cell_type": "code",
   "execution_count": 10,
   "id": "ecc619ef",
   "metadata": {},
   "outputs": [],
   "source": [
    "# configures the model for training\n",
    "brain.compile(loss='mean_absolute_error')"
   ]
  },
  {
   "cell_type": "code",
   "execution_count": 11,
   "id": "d50e1339",
   "metadata": {},
   "outputs": [
    {
     "name": "stdout",
     "output_type": "stream",
     "text": [
      "Epoch 1/20\n",
      "313/313 [==============================] - 1s 2ms/step - loss: 150.3425\n",
      "Epoch 2/20\n",
      "313/313 [==============================] - 0s 1ms/step - loss: 129.2406\n",
      "Epoch 3/20\n",
      "313/313 [==============================] - 0s 1ms/step - loss: 108.1645\n",
      "Epoch 4/20\n",
      "313/313 [==============================] - 1s 2ms/step - loss: 87.0766\n",
      "Epoch 5/20\n",
      "313/313 [==============================] - 0s 1ms/step - loss: 66.0065\n",
      "Epoch 6/20\n",
      "313/313 [==============================] - 1s 2ms/step - loss: 45.4455\n",
      "Epoch 7/20\n",
      "313/313 [==============================] - 1s 3ms/step - loss: 28.7518\n",
      "Epoch 8/20\n",
      "313/313 [==============================] - 1s 2ms/step - loss: 21.2158\n",
      "Epoch 9/20\n",
      "313/313 [==============================] - 1s 2ms/step - loss: 20.2782\n",
      "Epoch 10/20\n",
      "313/313 [==============================] - 1s 2ms/step - loss: 20.2627\n",
      "Epoch 11/20\n",
      "313/313 [==============================] - 1s 2ms/step - loss: 20.2632\n",
      "Epoch 12/20\n",
      "313/313 [==============================] - 1s 2ms/step - loss: 20.2590\n",
      "Epoch 13/20\n",
      "313/313 [==============================] - 0s 2ms/step - loss: 20.2565\n",
      "Epoch 14/20\n",
      "313/313 [==============================] - 0s 1ms/step - loss: 20.2533\n",
      "Epoch 15/20\n",
      "313/313 [==============================] - 0s 2ms/step - loss: 20.2519\n",
      "Epoch 16/20\n",
      "313/313 [==============================] - 0s 1ms/step - loss: 20.2482\n",
      "Epoch 17/20\n",
      "313/313 [==============================] - 0s 1ms/step - loss: 20.2422\n",
      "Epoch 18/20\n",
      "313/313 [==============================] - 1s 2ms/step - loss: 20.2437\n",
      "Epoch 19/20\n",
      "313/313 [==============================] - 0s 1ms/step - loss: 20.2390\n",
      "Epoch 20/20\n",
      "313/313 [==============================] - 0s 1ms/step - loss: 20.2360\n"
     ]
    },
    {
     "data": {
      "text/plain": [
       "<keras.callbacks.History at 0x123e12a90>"
      ]
     },
     "execution_count": 11,
     "metadata": {},
     "output_type": "execute_result"
    }
   ],
   "source": [
    "# epochs = 10 means the model gets trained 10 times to reduce loss\n",
    "# more epochs less loss\n",
    "brain.fit(x,y,epochs=20)"
   ]
  },
  {
   "cell_type": "code",
   "execution_count": 12,
   "id": "b011ac18",
   "metadata": {},
   "outputs": [
    {
     "name": "stdout",
     "output_type": "stream",
     "text": [
      "Model: \"sequential\"\n",
      "_________________________________________________________________\n",
      " Layer (type)                Output Shape              Param #   \n",
      "=================================================================\n",
      " dense (Dense)               (None, 1)                 2         \n",
      "                                                                 \n",
      "=================================================================\n",
      "Total params: 2\n",
      "Trainable params: 2\n",
      "Non-trainable params: 0\n",
      "_________________________________________________________________\n"
     ]
    }
   ],
   "source": [
    "brain.summary()"
   ]
  },
  {
   "cell_type": "code",
   "execution_count": 13,
   "id": "8458f585",
   "metadata": {},
   "outputs": [
    {
     "data": {
      "text/plain": [
       "[array([[2.440385]], dtype=float32), array([1.5831715], dtype=float32)]"
      ]
     },
     "execution_count": 13,
     "metadata": {},
     "output_type": "execute_result"
    }
   ],
   "source": [
    "# first array is bias and second is weight\n",
    "brain.get_weights()"
   ]
  },
  {
   "cell_type": "code",
   "execution_count": 14,
   "id": "003afb78",
   "metadata": {},
   "outputs": [
    {
     "name": "stdout",
     "output_type": "stream",
     "text": [
      "313/313 [==============================] - 0s 1ms/step\n"
     ]
    }
   ],
   "source": [
    "y_predicted = brain.predict(x)"
   ]
  },
  {
   "cell_type": "code",
   "execution_count": 15,
   "id": "ce75bad9",
   "metadata": {},
   "outputs": [
    {
     "data": {
      "text/plain": [
       "array([[181.79832],\n",
       "       [169.43752],\n",
       "       [182.44038],\n",
       "       ...,\n",
       "       [157.44568],\n",
       "       [170.05331],\n",
       "       [152.75099]], dtype=float32)"
      ]
     },
     "execution_count": 15,
     "metadata": {},
     "output_type": "execute_result"
    }
   ],
   "source": [
    "y_predicted"
   ]
  },
  {
   "cell_type": "code",
   "execution_count": 16,
   "id": "a1ffdca0",
   "metadata": {},
   "outputs": [
    {
     "data": {
      "text/plain": [
       "0       241.893563\n",
       "1       162.310473\n",
       "2       212.740856\n",
       "3       220.042470\n",
       "4       206.349801\n",
       "           ...    \n",
       "9995    136.777454\n",
       "9996    170.867906\n",
       "9997    128.475319\n",
       "9998    163.852461\n",
       "9999    113.649103\n",
       "Name: Weight, Length: 10000, dtype: float64"
      ]
     },
     "execution_count": 16,
     "metadata": {},
     "output_type": "execute_result"
    }
   ],
   "source": [
    "y"
   ]
  }
 ],
 "metadata": {
  "kernelspec": {
   "display_name": "Python 3 (ipykernel)",
   "language": "python",
   "name": "python3"
  },
  "language_info": {
   "codemirror_mode": {
    "name": "ipython",
    "version": 3
   },
   "file_extension": ".py",
   "mimetype": "text/x-python",
   "name": "python",
   "nbconvert_exporter": "python",
   "pygments_lexer": "ipython3",
   "version": "3.11.3"
  }
 },
 "nbformat": 4,
 "nbformat_minor": 5
}
